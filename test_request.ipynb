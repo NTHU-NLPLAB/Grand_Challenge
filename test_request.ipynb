{
 "cells": [
  {
   "cell_type": "code",
   "execution_count": 24,
   "metadata": {},
   "outputs": [
    {
     "name": "stdout",
     "output_type": "stream",
     "text": [
      "CPU times: user 14.7 ms, sys: 10.8 ms, total: 25.4 ms\n",
      "Wall time: 997 ms\n"
     ]
    }
   ],
   "source": [
    "%%time\n",
    "\n",
    "import requests, json\n",
    "\n",
    "url = 'http://nlp-ultron.cs.nthu.edu.tw:1316/'\n",
    "\n",
    "\n",
    "r = requests.post(url, json=[{\n",
    "  \"conversation\": \"1\\t我剛吃飽來散步\\t0.99\\n2\\t你吃飽了嗎\\t0.33\\n1\\t吃飽囉\\t0.87\",\n",
    "  \"conversation_pin\": \"1\\t我剛吃飽來散步\\t0.99\\n2\\t你吃飽了嗎\\t0.33\\n1\\t吃飽囉\\t0.87\",\n",
    "  \"question\": \"1\\t\\t0.66\",\n",
    "  \"question_pin\": \"1\\t請問他吃飽了嗎\\t0.66\",\n",
    "  \"options\": \"1\\t吃飽了\\t0.99\\n2\\t還沒吃\\t0.99\",\n",
    "  \"options_pin\": \"1\\t吃飽了\\t0.99\\n2\\t還沒吃\\t0.99\"\n",
    "}]*3000)\n",
    "\n",
    "# print(json.loads(r.text))"
   ]
  },
  {
   "cell_type": "code",
   "execution_count": 22,
   "metadata": {},
   "outputs": [
    {
     "name": "stdout",
     "output_type": "stream",
     "text": [
      "{'answer': '1', 'scores': [0.5737469792366028, 0.5194218158721924]}\n"
     ]
    }
   ],
   "source": [
    "# test\n",
    "\n",
    "import requests, json\n",
    "\n",
    "url = 'http://nlp-ultron.cs.nthu.edu.tw:1314/'\n",
    "\n",
    "r = requests.post(url, json={\n",
    "  \"conversation\": \"1\\t我剛吃飽來散步\\t0.99\\n2\\t你吃飽了嗎\\t0.33\\n1\\t吃飽囉\\t0.87\",\n",
    "  \"conversation_pin\": \"1\\t我剛吃飽來散步\\t0.99\\n2\\t你吃飽了嗎\\t0.33\\n1\\t吃飽囉\\t0.87\",\n",
    "  \"question\": \"1\\t請問他吃飽了嗎\\t0.66\",\n",
    "  \"question_pin\": \"1\\t請問他吃飽了嗎\\t0.66\",\n",
    "  \"options\": \"1\\t吃飽了\\t0.99\\n2\\t還沒吃\\t0.99\",\n",
    "  \"options_pin\": \"1\\t吃飽了\\t0.99\\n2\\t還沒吃\\t0.99\"\n",
    "})\n",
    "\n",
    "print(json.loads(r.text))"
   ]
  },
  {
   "cell_type": "code",
   "execution_count": null,
   "metadata": {},
   "outputs": [],
   "source": []
  }
 ],
 "metadata": {
  "kernelspec": {
   "display_name": "Python 3",
   "language": "python",
   "name": "python3"
  },
  "language_info": {
   "codemirror_mode": {
    "name": "ipython",
    "version": 3
   },
   "file_extension": ".py",
   "mimetype": "text/x-python",
   "name": "python",
   "nbconvert_exporter": "python",
   "pygments_lexer": "ipython3",
   "version": "3.6.3"
  }
 },
 "nbformat": 4,
 "nbformat_minor": 2
}
